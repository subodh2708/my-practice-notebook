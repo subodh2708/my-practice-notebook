{
 "cells": [
  {
   "cell_type": "code",
   "execution_count": 1,
   "id": "abb2b2f1",
   "metadata": {},
   "outputs": [],
   "source": [
    "import numpy as np"
   ]
  },
  {
   "cell_type": "code",
   "execution_count": 23,
   "id": "8bbdf535",
   "metadata": {},
   "outputs": [],
   "source": [
    "list_1  = [1,2,3]"
   ]
  },
  {
   "cell_type": "code",
   "execution_count": 24,
   "id": "4ed34ed7",
   "metadata": {},
   "outputs": [],
   "source": [
    "a1 = np.array(list_1)"
   ]
  },
  {
   "cell_type": "code",
   "execution_count": 9,
   "id": "e7a14b9f",
   "metadata": {},
   "outputs": [
    {
     "data": {
      "text/plain": [
       "numpy.ndarray"
      ]
     },
     "execution_count": 9,
     "metadata": {},
     "output_type": "execute_result"
    }
   ],
   "source": [
    "type(one_d_array)"
   ]
  },
  {
   "cell_type": "code",
   "execution_count": 10,
   "id": "9aafc22e",
   "metadata": {},
   "outputs": [
    {
     "data": {
      "text/plain": [
       "array([[0., 0., 0.],\n",
       "       [0., 0., 0.],\n",
       "       [0., 0., 0.]])"
      ]
     },
     "execution_count": 10,
     "metadata": {},
     "output_type": "execute_result"
    }
   ],
   "source": [
    "np.zeros((3,3))"
   ]
  },
  {
   "cell_type": "code",
   "execution_count": 11,
   "id": "4d54f288",
   "metadata": {},
   "outputs": [
    {
     "data": {
      "text/plain": [
       "array([[1., 1., 1., 1.],\n",
       "       [1., 1., 1., 1.],\n",
       "       [1., 1., 1., 1.]])"
      ]
     },
     "execution_count": 11,
     "metadata": {},
     "output_type": "execute_result"
    }
   ],
   "source": [
    "np.ones((3,4))"
   ]
  },
  {
   "cell_type": "code",
   "execution_count": 14,
   "id": "da9d0dfc",
   "metadata": {},
   "outputs": [
    {
     "data": {
      "text/plain": [
       "array([[9, 6, 9],\n",
       "       [7, 6, 9],\n",
       "       [2, 9, 6],\n",
       "       [4, 6, 2]])"
      ]
     },
     "execution_count": 14,
     "metadata": {},
     "output_type": "execute_result"
    }
   ],
   "source": [
    "random_array = np.random.randint(2,10, size= (4,3))\n",
    "random_array"
   ]
  },
  {
   "cell_type": "code",
   "execution_count": 21,
   "id": "c7d019d9",
   "metadata": {},
   "outputs": [
    {
     "data": {
      "text/plain": [
       "array([[6, 9],\n",
       "       [6, 9]])"
      ]
     },
     "execution_count": 21,
     "metadata": {},
     "output_type": "execute_result"
    }
   ],
   "source": [
    "random_array[:2,1:]"
   ]
  },
  {
   "cell_type": "code",
   "execution_count": 17,
   "id": "6acc0779",
   "metadata": {},
   "outputs": [
    {
     "data": {
      "text/plain": [
       "array([[[-0.85712781, -1.09533321,  0.62510769,  0.20074633],\n",
       "        [-0.6658919 ,  0.53254578, -0.85234217,  0.20381006],\n",
       "        [ 0.90378772,  2.37282449,  0.16199496,  1.43347712]],\n",
       "\n",
       "       [[-1.06613335, -1.97631418,  0.52747512,  0.68737732],\n",
       "        [ 0.15918378, -0.23406153, -0.64557915,  0.14019052],\n",
       "        [ 0.2893491 ,  0.34975311,  0.8330752 , -0.91531821]]])"
      ]
     },
     "execution_count": 17,
     "metadata": {},
     "output_type": "execute_result"
    }
   ],
   "source": [
    "random_3d_array = np.random.randn(2,3,4)\n",
    "random_3d_array"
   ]
  },
  {
   "cell_type": "code",
   "execution_count": 20,
   "id": "56b77266",
   "metadata": {},
   "outputs": [
    {
     "data": {
      "text/plain": [
       "array([[[0.90378772, 2.37282449]]])"
      ]
     },
     "execution_count": 20,
     "metadata": {},
     "output_type": "execute_result"
    }
   ],
   "source": [
    "random_3d_array[:1,2:,:2]"
   ]
  },
  {
   "cell_type": "code",
   "execution_count": 25,
   "id": "b6b26f7a",
   "metadata": {},
   "outputs": [
    {
     "data": {
      "text/plain": [
       "array([1, 2, 3])"
      ]
     },
     "execution_count": 25,
     "metadata": {},
     "output_type": "execute_result"
    }
   ],
   "source": [
    "a1"
   ]
  },
  {
   "cell_type": "code",
   "execution_count": 27,
   "id": "c1a4a1c5",
   "metadata": {},
   "outputs": [
    {
     "data": {
      "text/plain": [
       "array([1., 1., 1.])"
      ]
     },
     "execution_count": 27,
     "metadata": {},
     "output_type": "execute_result"
    }
   ],
   "source": [
    "ones = np.ones(3)\n",
    "ones"
   ]
  },
  {
   "cell_type": "code",
   "execution_count": 28,
   "id": "e2eea38b",
   "metadata": {},
   "outputs": [
    {
     "data": {
      "text/plain": [
       "array([1., 2., 3.])"
      ]
     },
     "execution_count": 28,
     "metadata": {},
     "output_type": "execute_result"
    }
   ],
   "source": [
    "a1 * ones"
   ]
  },
  {
   "cell_type": "code",
   "execution_count": 32,
   "id": "2ea6c98b",
   "metadata": {},
   "outputs": [
    {
     "data": {
      "text/plain": [
       "array([[8, 2, 8],\n",
       "       [5, 9, 8],\n",
       "       [5, 9, 4],\n",
       "       [8, 3, 9]])"
      ]
     },
     "execution_count": 32,
     "metadata": {},
     "output_type": "execute_result"
    }
   ],
   "source": [
    "a2 = np.random.randint(2,10, size= (4,3))\n",
    "a2"
   ]
  },
  {
   "cell_type": "code",
   "execution_count": 31,
   "id": "1b0d1827",
   "metadata": {},
   "outputs": [
    {
     "data": {
      "text/plain": [
       "array([[ 9, 14, 12],\n",
       "       [ 6,  8, 21],\n",
       "       [ 7, 12,  9],\n",
       "       [ 7, 18, 21]])"
      ]
     },
     "execution_count": 31,
     "metadata": {},
     "output_type": "execute_result"
    }
   ],
   "source": [
    "a1 * a2"
   ]
  },
  {
   "cell_type": "code",
   "execution_count": 33,
   "id": "4f58a077",
   "metadata": {},
   "outputs": [
    {
     "data": {
      "text/plain": [
       "array([0.16430231, 0.43240361, 0.11246156, 0.41410698, 0.76661972,\n",
       "       0.87685413, 0.68805967, 0.31897203, 0.62069695, 0.21194371,\n",
       "       0.93630201, 0.82373985, 0.40604252, 0.73003062, 0.46717471,\n",
       "       0.84498748, 0.61954008, 0.57026843, 0.20538292, 0.78888748,\n",
       "       0.51297529, 0.76304023, 0.74729937, 0.98380753, 0.40040635,\n",
       "       0.37385332, 0.24780436, 0.70796451, 0.76939266, 0.49989652])"
      ]
     },
     "execution_count": 33,
     "metadata": {},
     "output_type": "execute_result"
    }
   ],
   "source": [
    "np.random.random(30)"
   ]
  },
  {
   "cell_type": "code",
   "execution_count": 35,
   "id": "b32b46e4",
   "metadata": {},
   "outputs": [],
   "source": [
    "r1 =np.random.randint(2,50, (3,4))"
   ]
  },
  {
   "cell_type": "code",
   "execution_count": 36,
   "id": "5588483c",
   "metadata": {},
   "outputs": [
    {
     "data": {
      "text/plain": [
       "array([[[34],\n",
       "        [37],\n",
       "        [28],\n",
       "        [14]],\n",
       "\n",
       "       [[33],\n",
       "        [39],\n",
       "        [31],\n",
       "        [33]],\n",
       "\n",
       "       [[42],\n",
       "        [37],\n",
       "        [ 8],\n",
       "        [17]]])"
      ]
     },
     "execution_count": 36,
     "metadata": {},
     "output_type": "execute_result"
    }
   ],
   "source": [
    "r1.reshape(3,4,1)"
   ]
  },
  {
   "cell_type": "code",
   "execution_count": null,
   "id": "1d6ce5c8",
   "metadata": {},
   "outputs": [],
   "source": []
  }
 ],
 "metadata": {
  "kernelspec": {
   "display_name": "Python 3 (ipykernel)",
   "language": "python",
   "name": "python3"
  },
  "language_info": {
   "codemirror_mode": {
    "name": "ipython",
    "version": 3
   },
   "file_extension": ".py",
   "mimetype": "text/x-python",
   "name": "python",
   "nbconvert_exporter": "python",
   "pygments_lexer": "ipython3",
   "version": "3.9.7"
  }
 },
 "nbformat": 4,
 "nbformat_minor": 5
}

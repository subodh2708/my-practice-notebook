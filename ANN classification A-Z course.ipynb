{
 "cells": [
  {
   "cell_type": "code",
   "execution_count": 1,
   "id": "7e6979b4",
   "metadata": {},
   "outputs": [],
   "source": [
    "import numpy as np\n",
    "import pandas as pd\n",
    "import tensorflow as tf"
   ]
  },
  {
   "cell_type": "code",
   "execution_count": 2,
   "id": "5b6eab9f",
   "metadata": {},
   "outputs": [
    {
     "data": {
      "text/plain": [
       "'2.8.0'"
      ]
     },
     "execution_count": 2,
     "metadata": {},
     "output_type": "execute_result"
    }
   ],
   "source": [
    "tf.__version__"
   ]
  },
  {
   "cell_type": "code",
   "execution_count": 3,
   "id": "71dff324",
   "metadata": {},
   "outputs": [],
   "source": [
    "df = pd.read_csv(\"Churn_Modelling.csv\")"
   ]
  },
  {
   "cell_type": "code",
   "execution_count": 4,
   "id": "1743b210",
   "metadata": {},
   "outputs": [
    {
     "data": {
      "text/html": [
       "<div>\n",
       "<style scoped>\n",
       "    .dataframe tbody tr th:only-of-type {\n",
       "        vertical-align: middle;\n",
       "    }\n",
       "\n",
       "    .dataframe tbody tr th {\n",
       "        vertical-align: top;\n",
       "    }\n",
       "\n",
       "    .dataframe thead th {\n",
       "        text-align: right;\n",
       "    }\n",
       "</style>\n",
       "<table border=\"1\" class=\"dataframe\">\n",
       "  <thead>\n",
       "    <tr style=\"text-align: right;\">\n",
       "      <th></th>\n",
       "      <th>RowNumber</th>\n",
       "      <th>CustomerId</th>\n",
       "      <th>Surname</th>\n",
       "      <th>CreditScore</th>\n",
       "      <th>Geography</th>\n",
       "      <th>Gender</th>\n",
       "      <th>Age</th>\n",
       "      <th>Tenure</th>\n",
       "      <th>Balance</th>\n",
       "      <th>NumOfProducts</th>\n",
       "      <th>HasCrCard</th>\n",
       "      <th>IsActiveMember</th>\n",
       "      <th>EstimatedSalary</th>\n",
       "      <th>Exited</th>\n",
       "    </tr>\n",
       "  </thead>\n",
       "  <tbody>\n",
       "    <tr>\n",
       "      <th>0</th>\n",
       "      <td>1</td>\n",
       "      <td>15634602</td>\n",
       "      <td>Hargrave</td>\n",
       "      <td>619</td>\n",
       "      <td>France</td>\n",
       "      <td>Female</td>\n",
       "      <td>42</td>\n",
       "      <td>2</td>\n",
       "      <td>0.00</td>\n",
       "      <td>1</td>\n",
       "      <td>1</td>\n",
       "      <td>1</td>\n",
       "      <td>101348.88</td>\n",
       "      <td>1</td>\n",
       "    </tr>\n",
       "    <tr>\n",
       "      <th>1</th>\n",
       "      <td>2</td>\n",
       "      <td>15647311</td>\n",
       "      <td>Hill</td>\n",
       "      <td>608</td>\n",
       "      <td>Spain</td>\n",
       "      <td>Female</td>\n",
       "      <td>41</td>\n",
       "      <td>1</td>\n",
       "      <td>83807.86</td>\n",
       "      <td>1</td>\n",
       "      <td>0</td>\n",
       "      <td>1</td>\n",
       "      <td>112542.58</td>\n",
       "      <td>0</td>\n",
       "    </tr>\n",
       "    <tr>\n",
       "      <th>2</th>\n",
       "      <td>3</td>\n",
       "      <td>15619304</td>\n",
       "      <td>Onio</td>\n",
       "      <td>502</td>\n",
       "      <td>France</td>\n",
       "      <td>Female</td>\n",
       "      <td>42</td>\n",
       "      <td>8</td>\n",
       "      <td>159660.80</td>\n",
       "      <td>3</td>\n",
       "      <td>1</td>\n",
       "      <td>0</td>\n",
       "      <td>113931.57</td>\n",
       "      <td>1</td>\n",
       "    </tr>\n",
       "    <tr>\n",
       "      <th>3</th>\n",
       "      <td>4</td>\n",
       "      <td>15701354</td>\n",
       "      <td>Boni</td>\n",
       "      <td>699</td>\n",
       "      <td>France</td>\n",
       "      <td>Female</td>\n",
       "      <td>39</td>\n",
       "      <td>1</td>\n",
       "      <td>0.00</td>\n",
       "      <td>2</td>\n",
       "      <td>0</td>\n",
       "      <td>0</td>\n",
       "      <td>93826.63</td>\n",
       "      <td>0</td>\n",
       "    </tr>\n",
       "    <tr>\n",
       "      <th>4</th>\n",
       "      <td>5</td>\n",
       "      <td>15737888</td>\n",
       "      <td>Mitchell</td>\n",
       "      <td>850</td>\n",
       "      <td>Spain</td>\n",
       "      <td>Female</td>\n",
       "      <td>43</td>\n",
       "      <td>2</td>\n",
       "      <td>125510.82</td>\n",
       "      <td>1</td>\n",
       "      <td>1</td>\n",
       "      <td>1</td>\n",
       "      <td>79084.10</td>\n",
       "      <td>0</td>\n",
       "    </tr>\n",
       "  </tbody>\n",
       "</table>\n",
       "</div>"
      ],
      "text/plain": [
       "   RowNumber  CustomerId   Surname  CreditScore Geography  Gender  Age  \\\n",
       "0          1    15634602  Hargrave          619    France  Female   42   \n",
       "1          2    15647311      Hill          608     Spain  Female   41   \n",
       "2          3    15619304      Onio          502    France  Female   42   \n",
       "3          4    15701354      Boni          699    France  Female   39   \n",
       "4          5    15737888  Mitchell          850     Spain  Female   43   \n",
       "\n",
       "   Tenure    Balance  NumOfProducts  HasCrCard  IsActiveMember  \\\n",
       "0       2       0.00              1          1               1   \n",
       "1       1   83807.86              1          0               1   \n",
       "2       8  159660.80              3          1               0   \n",
       "3       1       0.00              2          0               0   \n",
       "4       2  125510.82              1          1               1   \n",
       "\n",
       "   EstimatedSalary  Exited  \n",
       "0        101348.88       1  \n",
       "1        112542.58       0  \n",
       "2        113931.57       1  \n",
       "3         93826.63       0  \n",
       "4         79084.10       0  "
      ]
     },
     "execution_count": 4,
     "metadata": {},
     "output_type": "execute_result"
    }
   ],
   "source": [
    "df.head()"
   ]
  },
  {
   "cell_type": "code",
   "execution_count": 7,
   "id": "45b54bca",
   "metadata": {},
   "outputs": [],
   "source": [
    "X = df.iloc[:,3:-1].values\n",
    "y = df.iloc[:,-1].values"
   ]
  },
  {
   "cell_type": "code",
   "execution_count": 8,
   "id": "4b6b97eb",
   "metadata": {},
   "outputs": [
    {
     "data": {
      "text/plain": [
       "array([[619, 'France', 'Female', ..., 1, 1, 101348.88],\n",
       "       [608, 'Spain', 'Female', ..., 0, 1, 112542.58],\n",
       "       [502, 'France', 'Female', ..., 1, 0, 113931.57],\n",
       "       ...,\n",
       "       [709, 'France', 'Female', ..., 0, 1, 42085.58],\n",
       "       [772, 'Germany', 'Male', ..., 1, 0, 92888.52],\n",
       "       [792, 'France', 'Female', ..., 1, 0, 38190.78]], dtype=object)"
      ]
     },
     "execution_count": 8,
     "metadata": {},
     "output_type": "execute_result"
    }
   ],
   "source": [
    "X"
   ]
  },
  {
   "cell_type": "code",
   "execution_count": 9,
   "id": "cf1520c8",
   "metadata": {},
   "outputs": [
    {
     "data": {
      "text/plain": [
       "array([1, 0, 1, ..., 1, 1, 0], dtype=int64)"
      ]
     },
     "execution_count": 9,
     "metadata": {},
     "output_type": "execute_result"
    }
   ],
   "source": [
    "y"
   ]
  },
  {
   "cell_type": "code",
   "execution_count": 13,
   "id": "f67d710a",
   "metadata": {},
   "outputs": [],
   "source": [
    "from sklearn.preprocessing import LabelEncoder\n",
    "le = LabelEncoder()\n",
    "X[:,2] =le.fit_transform(X[:,2])"
   ]
  },
  {
   "cell_type": "code",
   "execution_count": 21,
   "id": "a0ee3a76",
   "metadata": {},
   "outputs": [
    {
     "data": {
      "text/plain": [
       "array([[1.0, 0.0, 1.0, ..., 1, 1, 101348.88],\n",
       "       [1.0, 0.0, 0.0, ..., 0, 1, 112542.58],\n",
       "       [1.0, 0.0, 1.0, ..., 1, 0, 113931.57],\n",
       "       ...,\n",
       "       [1.0, 0.0, 1.0, ..., 0, 1, 42085.58],\n",
       "       [0.0, 1.0, 0.0, ..., 1, 0, 92888.52],\n",
       "       [1.0, 0.0, 1.0, ..., 1, 0, 38190.78]], dtype=object)"
      ]
     },
     "execution_count": 21,
     "metadata": {},
     "output_type": "execute_result"
    }
   ],
   "source": [
    "X"
   ]
  },
  {
   "cell_type": "code",
   "execution_count": 26,
   "id": "1c4b7c0c",
   "metadata": {},
   "outputs": [],
   "source": [
    "from sklearn.compose import ColumnTransformer\n",
    "from sklearn.preprocessing import OneHotEncoder\n",
    "ct = ColumnTransformer(transformers = [('encoder',OneHotEncoder(), [1])],remainder = 'passthrough')\n",
    "X = ct.fit_transform(X)"
   ]
  },
  {
   "cell_type": "code",
   "execution_count": 27,
   "id": "37defabd",
   "metadata": {},
   "outputs": [
    {
     "data": {
      "text/plain": [
       "array([[1.0, 0.0, 1.0, ..., 1, 1, 101348.88],\n",
       "       [1.0, 0.0, 1.0, ..., 0, 1, 112542.58],\n",
       "       [1.0, 0.0, 1.0, ..., 1, 0, 113931.57],\n",
       "       ...,\n",
       "       [1.0, 0.0, 1.0, ..., 0, 1, 42085.58],\n",
       "       [0.0, 1.0, 0.0, ..., 1, 0, 92888.52],\n",
       "       [1.0, 0.0, 1.0, ..., 1, 0, 38190.78]], dtype=object)"
      ]
     },
     "execution_count": 27,
     "metadata": {},
     "output_type": "execute_result"
    }
   ],
   "source": [
    "X"
   ]
  },
  {
   "cell_type": "code",
   "execution_count": 29,
   "id": "975a0c7b",
   "metadata": {},
   "outputs": [],
   "source": [
    "from sklearn.model_selection import train_test_split\n",
    "X_train, X_test, y_train, y_test = train_test_split(X, y, test_size=0.2, random_state=0)"
   ]
  },
  {
   "cell_type": "code",
   "execution_count": 30,
   "id": "f55553e3",
   "metadata": {},
   "outputs": [],
   "source": [
    "from sklearn.preprocessing import StandardScaler\n",
    "sc = StandardScaler()\n",
    "X_train = sc.fit_transform(X_train)\n",
    "X_test = sc.transform(X_test)"
   ]
  },
  {
   "cell_type": "code",
   "execution_count": 33,
   "id": "dcc37758",
   "metadata": {},
   "outputs": [
    {
     "name": "stdout",
     "output_type": "stream",
     "text": [
      "Epoch 1/50\n",
      "250/250 [==============================] - 1s 776us/step - loss: 0.5650 - accuracy: 0.7380\n",
      "Epoch 2/50\n",
      "250/250 [==============================] - 0s 789us/step - loss: 0.4618 - accuracy: 0.7971\n",
      "Epoch 3/50\n",
      "250/250 [==============================] - 0s 840us/step - loss: 0.4355 - accuracy: 0.8075\n",
      "Epoch 4/50\n",
      "250/250 [==============================] - 0s 844us/step - loss: 0.4181 - accuracy: 0.8202\n",
      "Epoch 5/50\n",
      "250/250 [==============================] - 0s 815us/step - loss: 0.4037 - accuracy: 0.8309\n",
      "Epoch 6/50\n",
      "250/250 [==============================] - 0s 763us/step - loss: 0.3900 - accuracy: 0.8384\n",
      "Epoch 7/50\n",
      "250/250 [==============================] - 0s 759us/step - loss: 0.3772 - accuracy: 0.8472\n",
      "Epoch 8/50\n",
      "250/250 [==============================] - 0s 763us/step - loss: 0.3675 - accuracy: 0.8518\n",
      "Epoch 9/50\n",
      "250/250 [==============================] - 0s 767us/step - loss: 0.3613 - accuracy: 0.8528\n",
      "Epoch 10/50\n",
      "250/250 [==============================] - 0s 772us/step - loss: 0.3564 - accuracy: 0.8569\n",
      "Epoch 11/50\n",
      "250/250 [==============================] - 0s 784us/step - loss: 0.3525 - accuracy: 0.8575\n",
      "Epoch 12/50\n",
      "250/250 [==============================] - 0s 784us/step - loss: 0.3495 - accuracy: 0.8586\n",
      "Epoch 13/50\n",
      "250/250 [==============================] - 0s 759us/step - loss: 0.3469 - accuracy: 0.8619\n",
      "Epoch 14/50\n",
      "250/250 [==============================] - 0s 840us/step - loss: 0.3455 - accuracy: 0.8611\n",
      "Epoch 15/50\n",
      "250/250 [==============================] - 0s 856us/step - loss: 0.3435 - accuracy: 0.8600\n",
      "Epoch 16/50\n",
      "250/250 [==============================] - 0s 823us/step - loss: 0.3429 - accuracy: 0.8614\n",
      "Epoch 17/50\n",
      "250/250 [==============================] - 0s 837us/step - loss: 0.3428 - accuracy: 0.8609\n",
      "Epoch 18/50\n",
      "250/250 [==============================] - 0s 775us/step - loss: 0.3421 - accuracy: 0.8609\n",
      "Epoch 19/50\n",
      "250/250 [==============================] - 0s 773us/step - loss: 0.3421 - accuracy: 0.8611\n",
      "Epoch 20/50\n",
      "250/250 [==============================] - 0s 788us/step - loss: 0.3413 - accuracy: 0.8614\n",
      "Epoch 21/50\n",
      "250/250 [==============================] - 0s 763us/step - loss: 0.3410 - accuracy: 0.8608\n",
      "Epoch 22/50\n",
      "250/250 [==============================] - 0s 768us/step - loss: 0.3414 - accuracy: 0.8604\n",
      "Epoch 23/50\n",
      "250/250 [==============================] - 0s 785us/step - loss: 0.3410 - accuracy: 0.8609\n",
      "Epoch 24/50\n",
      "250/250 [==============================] - 0s 807us/step - loss: 0.3408 - accuracy: 0.8595\n",
      "Epoch 25/50\n",
      "250/250 [==============================] - 0s 768us/step - loss: 0.3403 - accuracy: 0.8608\n",
      "Epoch 26/50\n",
      "250/250 [==============================] - 0s 807us/step - loss: 0.3400 - accuracy: 0.8614\n",
      "Epoch 27/50\n",
      "250/250 [==============================] - 0s 856us/step - loss: 0.3398 - accuracy: 0.8601\n",
      "Epoch 28/50\n",
      "250/250 [==============================] - 0s 852us/step - loss: 0.3388 - accuracy: 0.8639\n",
      "Epoch 29/50\n",
      "250/250 [==============================] - 0s 840us/step - loss: 0.3396 - accuracy: 0.8609\n",
      "Epoch 30/50\n",
      "250/250 [==============================] - 0s 819us/step - loss: 0.3393 - accuracy: 0.8616\n",
      "Epoch 31/50\n",
      "250/250 [==============================] - 0s 1ms/step - loss: 0.3384 - accuracy: 0.8625\n",
      "Epoch 32/50\n",
      "250/250 [==============================] - 0s 1ms/step - loss: 0.3392 - accuracy: 0.8626\n",
      "Epoch 33/50\n",
      "250/250 [==============================] - 0s 974us/step - loss: 0.3385 - accuracy: 0.8622\n",
      "Epoch 34/50\n",
      "250/250 [==============================] - 0s 889us/step - loss: 0.3385 - accuracy: 0.8611\n",
      "Epoch 35/50\n",
      "250/250 [==============================] - 0s 763us/step - loss: 0.3382 - accuracy: 0.8622\n",
      "Epoch 36/50\n",
      "250/250 [==============================] - 0s 782us/step - loss: 0.3381 - accuracy: 0.8606\n",
      "Epoch 37/50\n",
      "250/250 [==============================] - 0s 781us/step - loss: 0.3374 - accuracy: 0.8629\n",
      "Epoch 38/50\n",
      "250/250 [==============================] - 0s 779us/step - loss: 0.3371 - accuracy: 0.8640\n",
      "Epoch 39/50\n",
      "250/250 [==============================] - 0s 771us/step - loss: 0.3371 - accuracy: 0.8629\n",
      "Epoch 40/50\n",
      "250/250 [==============================] - 0s 763us/step - loss: 0.3367 - accuracy: 0.8621\n",
      "Epoch 41/50\n",
      "250/250 [==============================] - 0s 799us/step - loss: 0.3364 - accuracy: 0.8624\n",
      "Epoch 42/50\n",
      "250/250 [==============================] - 0s 840us/step - loss: 0.3364 - accuracy: 0.8637\n",
      "Epoch 43/50\n",
      "250/250 [==============================] - 0s 840us/step - loss: 0.3361 - accuracy: 0.8619\n",
      "Epoch 44/50\n",
      "250/250 [==============================] - 0s 803us/step - loss: 0.3359 - accuracy: 0.8629\n",
      "Epoch 45/50\n",
      "250/250 [==============================] - 0s 803us/step - loss: 0.3353 - accuracy: 0.8629\n",
      "Epoch 46/50\n",
      "250/250 [==============================] - 0s 832us/step - loss: 0.3358 - accuracy: 0.8619\n",
      "Epoch 47/50\n",
      "250/250 [==============================] - 0s 791us/step - loss: 0.3352 - accuracy: 0.8637\n",
      "Epoch 48/50\n",
      "250/250 [==============================] - 0s 888us/step - loss: 0.3349 - accuracy: 0.8631\n",
      "Epoch 49/50\n",
      "250/250 [==============================] - 0s 795us/step - loss: 0.3348 - accuracy: 0.8639\n",
      "Epoch 50/50\n",
      "250/250 [==============================] - 0s 794us/step - loss: 0.3345 - accuracy: 0.8643\n"
     ]
    },
    {
     "data": {
      "text/plain": [
       "<keras.callbacks.History at 0x1fb080ddd00>"
      ]
     },
     "execution_count": 33,
     "metadata": {},
     "output_type": "execute_result"
    }
   ],
   "source": [
    "ann = tf.keras.models.Sequential()\n",
    "\n",
    "ann.add(tf.keras.layers.Dense(6, activation= 'relu'))\n",
    "ann.add(tf.keras.layers.Dense(6,activation='relu'))\n",
    "\n",
    "ann.add(tf.keras.layers.Dense(1, activation = 'sigmoid'))\n",
    "\n",
    "ann.compile(loss = 'binary_crossentropy',\n",
    "           optimizer = 'adam',\n",
    "           metrics = ['accuracy'])\n",
    "\n",
    "ann.fit(X_train,y_train, batch_size=32, epochs=50)"
   ]
  },
  {
   "cell_type": "code",
   "execution_count": 39,
   "id": "18a31ae2",
   "metadata": {},
   "outputs": [
    {
     "name": "stdout",
     "output_type": "stream",
     "text": [
      "[[0 0]\n",
      " [0 1]\n",
      " [0 0]\n",
      " ...\n",
      " [0 0]\n",
      " [0 0]\n",
      " [0 0]]\n"
     ]
    }
   ],
   "source": [
    "y_pred = ann.predict(X_test)\n",
    "y_pred = y_pred > 0.5\n",
    "print(np.concatenate((y_pred.reshape(len(y_pred),1), y_test.reshape(len(y_test),1)),1))"
   ]
  },
  {
   "cell_type": "code",
   "execution_count": 62,
   "id": "cca79a2a",
   "metadata": {},
   "outputs": [
    {
     "name": "stdout",
     "output_type": "stream",
     "text": [
      "[[1519   76]\n",
      " [ 197  208]]\n",
      "accuracy score : 0.8635\n"
     ]
    }
   ],
   "source": [
    "from sklearn.metrics import confusion_matrix,accuracy_score\n",
    "cm=confusion_matrix(y_test,y_pred)\n",
    "print(cm)\n",
    "print(f'accuracy score : {accuracy_score(y_test,y_pred)}')"
   ]
  },
  {
   "cell_type": "code",
   "execution_count": null,
   "id": "b58b4e2b",
   "metadata": {},
   "outputs": [],
   "source": []
  }
 ],
 "metadata": {
  "kernelspec": {
   "display_name": "Python 3 (ipykernel)",
   "language": "python",
   "name": "python3"
  },
  "language_info": {
   "codemirror_mode": {
    "name": "ipython",
    "version": 3
   },
   "file_extension": ".py",
   "mimetype": "text/x-python",
   "name": "python",
   "nbconvert_exporter": "python",
   "pygments_lexer": "ipython3",
   "version": "3.9.7"
  }
 },
 "nbformat": 4,
 "nbformat_minor": 5
}

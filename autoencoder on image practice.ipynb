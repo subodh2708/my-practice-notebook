{
 "cells": [
  {
   "cell_type": "code",
   "execution_count": 1,
   "id": "77f608e1",
   "metadata": {},
   "outputs": [],
   "source": [
    "import numpy as np\n",
    "import pandas as pd\n",
    "import matplotlib.pyplot as plt"
   ]
  },
  {
   "cell_type": "code",
   "execution_count": 2,
   "id": "4e7c54f6",
   "metadata": {},
   "outputs": [],
   "source": [
    "from tensorflow.keras.datasets import mnist"
   ]
  },
  {
   "cell_type": "code",
   "execution_count": 3,
   "id": "bbf783fe",
   "metadata": {},
   "outputs": [],
   "source": [
    "(X_train,y_train),(X_test,y_test) = mnist.load_data()"
   ]
  },
  {
   "cell_type": "code",
   "execution_count": 4,
   "id": "c69e8aec",
   "metadata": {},
   "outputs": [
    {
     "data": {
      "text/plain": [
       "<matplotlib.image.AxesImage at 0x287a1bafd30>"
      ]
     },
     "execution_count": 4,
     "metadata": {},
     "output_type": "execute_result"
    },
    {
     "data": {
      "image/png": "[encoded data removed]",
      "text/plain": [
       "<Figure size 432x288 with 1 Axes>"
      ]
     },
     "metadata": {
      "needs_background": "light"
     },
     "output_type": "display_data"
    }
   ],
   "source": [
    "plt.imshow(X_train[0])"
   ]
  },
  {
   "cell_type": "code",
   "execution_count": 5,
   "id": "fff835fc",
   "metadata": {},
   "outputs": [],
   "source": [
    "X_train = X_train/255"
   ]
  },
  {
   "cell_type": "code",
   "execution_count": 6,
   "id": "e6d02003",
   "metadata": {},
   "outputs": [],
   "source": [
    "X_test = X_test/255"
   ]
  },
  {
   "cell_type": "code",
   "execution_count": 8,
   "id": "86d53c9a",
   "metadata": {},
   "outputs": [],
   "source": [
    "from tensorflow.keras.models import Sequential\n",
    "from tensorflow.keras.layers import Dense,Flatten,Reshape\n",
    "from tensorflow.keras.optimizers import SGD"
   ]
  },
  {
   "cell_type": "code",
   "execution_count": 9,
   "id": "863b098c",
   "metadata": {},
   "outputs": [],
   "source": [
    "encoder = Sequential()\n",
    "encoder.add(Flatten(input_shape=(28,28)))\n",
    "encoder.add(Dense(400, activation = 'relu'))\n",
    "encoder.add(Dense(200, activation = 'relu'))\n",
    "encoder.add(Dense(100, activation = 'relu'))\n",
    "encoder.add(Dense(50, activation = 'relu'))\n",
    "encoder.add(Dense(25, activation = 'relu'))"
   ]
  },
  {
   "cell_type": "code",
   "execution_count": 11,
   "id": "a12baa2f",
   "metadata": {},
   "outputs": [],
   "source": [
    "decoder = Sequential()\n",
    "decoder.add(Dense(50,input_shape=[25],activation= 'relu'))\n",
    "decoder.add(Dense(100,activation = 'relu'))\n",
    "decoder.add(Dense(200,activation = 'relu'))\n",
    "decoder.add(Dense(400,activation = 'relu'))\n",
    "decoder.add(Dense(784,activation = 'sigmoid'))\n",
    "decoder.add(Reshape([28,28]))\n",
    "\n"
   ]
  },
  {
   "cell_type": "code",
   "execution_count": 12,
   "id": "c0bb0940",
   "metadata": {},
   "outputs": [],
   "source": [
    "autoencoder = Sequential([encoder,decoder])"
   ]
  },
  {
   "cell_type": "code",
   "execution_count": 13,
   "id": "297180e3",
   "metadata": {},
   "outputs": [],
   "source": [
    "autoencoder.compile(loss = 'binary_crossentropy',optimizer = SGD(learning_rate=1.5),metrics=['accuracy'])"
   ]
  },
  {
   "cell_type": "code",
   "execution_count": 14,
   "id": "9c22d1dc",
   "metadata": {},
   "outputs": [
    {
     "name": "stdout",
     "output_type": "stream",
     "text": [
      "Epoch 1/5\n",
      "1875/1875 [==============================] - 11s 6ms/step - loss: 0.2499 - val_loss: 0.2072\n",
      "Epoch 2/5\n",
      "1875/1875 [==============================] - 10s 5ms/step - loss: 0.1828 - val_loss: 0.1688\n",
      "Epoch 3/5\n",
      "1875/1875 [==============================] - 11s 6ms/step - loss: 0.1595 - val_loss: 0.1520\n",
      "Epoch 4/5\n",
      "1875/1875 [==============================] - 11s 6ms/step - loss: 0.1482 - val_loss: 0.1443\n",
      "Epoch 5/5\n",
      "1875/1875 [==============================] - 10s 6ms/step - loss: 0.1414 - val_loss: 0.1354\n"
     ]
    },
    {
     "data": {
      "text/plain": [
       "<keras.callbacks.History at 0x2879ebed2e0>"
      ]
     },
     "execution_count": 14,
     "metadata": {},
     "output_type": "execute_result"
    }
   ],
   "source": [
    "autoencoder.fit(X_train,X_train,epochs=5,validation_data = (X_test,X_test))"
   ]
  },
  {
   "cell_type": "code",
   "execution_count": 15,
   "id": "1b66f26f",
   "metadata": {},
   "outputs": [],
   "source": [
    "passed_images = autoencoder.predict(X_test[:10])"
   ]
  },
  {
   "cell_type": "code",
   "execution_count": 17,
   "id": "422ebcd2",
   "metadata": {},
   "outputs": [
    {
     "name": "stdout",
     "output_type": "stream",
     "text": [
      "original image\n"
     ]
    },
    {
     "data": {
      "image/png": "[encoded data removed]",
      "text/plain": [
       "<Figure size 432x288 with 1 Axes>"
      ]
     },
     "metadata": {
      "needs_background": "light"
     },
     "output_type": "display_data"
    },
    {
     "name": "stdout",
     "output_type": "stream",
     "text": [
      "after autoencoder\n"
     ]
    },
    {
     "data": {
      "text/plain": [
       "<matplotlib.image.AxesImage at 0x287a1833880>"
      ]
     },
     "execution_count": 17,
     "metadata": {},
     "output_type": "execute_result"
    },
    {
     "data": {
      "image/png": "[encoded data removed]",
      "text/plain": [
       "<Figure size 432x288 with 1 Axes>"
      ]
     },
     "metadata": {
      "needs_background": "light"
     },
     "output_type": "display_data"
    }
   ],
   "source": [
    "n= 1\n",
    "\n",
    "print('original image')\n",
    "plt.imshow(X_test[n])\n",
    "plt.show()\n",
    "print('after autoencoder')\n",
    "plt.imshow(passed_images[n])"
   ]
  },
  {
   "cell_type": "code",
   "execution_count": 18,
   "id": "6f38440b",
   "metadata": {},
   "outputs": [],
   "source": [
    "from tensorflow.keras.layers import GaussianNoise"
   ]
  },
  {
   "cell_type": "code",
   "execution_count": 19,
   "id": "508eb08b",
   "metadata": {},
   "outputs": [],
   "source": [
    "sample = GaussianNoise(0.2)"
   ]
  },
  {
   "cell_type": "code",
   "execution_count": 20,
   "id": "7e7ce282",
   "metadata": {},
   "outputs": [],
   "source": [
    "noisey = sample(X_test[:10],training = True)"
   ]
  },
  {
   "cell_type": "code",
   "execution_count": 21,
   "id": "6cb103b0",
   "metadata": {},
   "outputs": [
    {
     "name": "stdout",
     "output_type": "stream",
     "text": [
      "ORIGINAL\n"
     ]
    },
    {
     "data": {
      "image/png": "[encoded data removed]",
      "text/plain": [
       "<Figure size 432x288 with 1 Axes>"
      ]
     },
     "metadata": {
      "needs_background": "light"
     },
     "output_type": "display_data"
    },
    {
     "name": "stdout",
     "output_type": "stream",
     "text": [
      "NOISE VERSION\n"
     ]
    },
    {
     "data": {
      "text/plain": [
       "<matplotlib.image.AxesImage at 0x287d8ee2940>"
      ]
     },
     "execution_count": 21,
     "metadata": {},
     "output_type": "execute_result"
    },
    {
     "data": {
      "image/png": "[encoded data removed]",
      "text/plain": [
       "<Figure size 432x288 with 1 Axes>"
      ]
     },
     "metadata": {
      "needs_background": "light"
     },
     "output_type": "display_data"
    }
   ],
   "source": [
    "n=0\n",
    "\n",
    "print('ORIGINAL')\n",
    "plt.imshow(X_test[n])\n",
    "plt.show()\n",
    "print('NOISE VERSION')\n",
    "plt.imshow(noisey[n])"
   ]
  },
  {
   "cell_type": "code",
   "execution_count": 22,
   "id": "1d95fddc",
   "metadata": {},
   "outputs": [],
   "source": [
    "encoder = Sequential()\n",
    "encoder.add(Flatten(input_shape=(28,28)))\n",
    "encoder.add(GaussianNoise(0.2))\n",
    "encoder.add(Dense(400, activation = 'relu'))\n",
    "encoder.add(Dense(200, activation = 'relu'))\n",
    "encoder.add(Dense(100, activation = 'relu'))\n",
    "encoder.add(Dense(50, activation = 'relu'))\n",
    "encoder.add(Dense(25, activation = 'relu'))"
   ]
  },
  {
   "cell_type": "code",
   "execution_count": 23,
   "id": "d0f9953e",
   "metadata": {},
   "outputs": [],
   "source": [
    "decoder = Sequential()\n",
    "decoder.add(Dense(50,input_shape=[25],activation= 'relu'))\n",
    "decoder.add(Dense(100,activation = 'relu'))\n",
    "decoder.add(Dense(200,activation = 'relu'))\n",
    "decoder.add(Dense(400,activation = 'relu'))\n",
    "decoder.add(Dense(784,activation = 'sigmoid'))\n",
    "decoder.add(Reshape([28,28]))\n",
    "\n"
   ]
  },
  {
   "cell_type": "code",
   "execution_count": 24,
   "id": "37318c03",
   "metadata": {},
   "outputs": [],
   "source": [
    "noise_remover = Sequential([encoder,decoder])"
   ]
  },
  {
   "cell_type": "code",
   "execution_count": 26,
   "id": "59d9eb29",
   "metadata": {},
   "outputs": [],
   "source": [
    "noise_remover.compile(optimizer='adam',loss='binary_crossentropy',metrics=['accuracy'])"
   ]
  },
  {
   "cell_type": "code",
   "execution_count": 27,
   "id": "3141b7f9",
   "metadata": {},
   "outputs": [
    {
     "name": "stdout",
     "output_type": "stream",
     "text": [
      "Epoch 1/8\n",
      "313/313 [==============================] - 3s 7ms/step - loss: 0.2483 - accuracy: 0.0901\n",
      "Epoch 2/8\n",
      "313/313 [==============================] - 2s 7ms/step - loss: 0.1774 - accuracy: 0.1669\n",
      "Epoch 3/8\n",
      "313/313 [==============================] - 2s 7ms/step - loss: 0.1555 - accuracy: 0.1944\n",
      "Epoch 4/8\n",
      "313/313 [==============================] - 2s 7ms/step - loss: 0.1452 - accuracy: 0.2088\n",
      "Epoch 5/8\n",
      "313/313 [==============================] - 2s 7ms/step - loss: 0.1391 - accuracy: 0.2148\n",
      "Epoch 6/8\n",
      "313/313 [==============================] - 2s 7ms/step - loss: 0.1342 - accuracy: 0.2216\n",
      "Epoch 7/8\n",
      "313/313 [==============================] - 2s 7ms/step - loss: 0.1308 - accuracy: 0.2266\n",
      "Epoch 8/8\n",
      "313/313 [==============================] - 2s 7ms/step - loss: 0.1282 - accuracy: 0.2289\n"
     ]
    },
    {
     "data": {
      "text/plain": [
       "<keras.callbacks.History at 0x287c2a68490>"
      ]
     },
     "execution_count": 27,
     "metadata": {},
     "output_type": "execute_result"
    }
   ],
   "source": [
    "noise_remover.fit(X_test,X_test,epochs = 8)"
   ]
  },
  {
   "cell_type": "code",
   "execution_count": 28,
   "id": "018006e6",
   "metadata": {},
   "outputs": [],
   "source": [
    "ten_noisey_images = sample(X_test[:10],training= True)"
   ]
  },
  {
   "cell_type": "code",
   "execution_count": 29,
   "id": "3c515652",
   "metadata": {},
   "outputs": [],
   "source": [
    "denoised = noise_remover(ten_noisey_images)"
   ]
  },
  {
   "cell_type": "code",
   "execution_count": 32,
   "id": "71bb01f0",
   "metadata": {},
   "outputs": [
    {
     "name": "stdout",
     "output_type": "stream",
     "text": [
      "ORIGINAL IMAGE\n"
     ]
    },
    {
     "data": {
      "image/png": "[encoded data removed]",
      "text/plain": [
       "<Figure size 432x288 with 1 Axes>"
      ]
     },
     "metadata": {
      "needs_background": "light"
     },
     "output_type": "display_data"
    },
    {
     "name": "stdout",
     "output_type": "stream",
     "text": [
      "NOISE ADDED\n"
     ]
    },
    {
     "data": {
      "image/png": "[encoded data removed]",
      "text/plain": [
       "<Figure size 432x288 with 1 Axes>"
      ]
     },
     "metadata": {
      "needs_background": "light"
     },
     "output_type": "display_data"
    },
    {
     "name": "stdout",
     "output_type": "stream",
     "text": [
      "AFTER NOISE REMOVAL FROM AUTOENCODER\n"
     ]
    },
    {
     "data": {
      "image/png": "[encoded data removed]",
      "text/plain": [
       "<Figure size 432x288 with 1 Axes>"
      ]
     },
     "metadata": {
      "needs_background": "light"
     },
     "output_type": "display_data"
    }
   ],
   "source": [
    "print('ORIGINAL IMAGE')\n",
    "plt.imshow(X_test[n])\n",
    "plt.show()\n",
    "print('NOISE ADDED')\n",
    "plt.imshow(ten_noisey_images[n])\n",
    "plt.show()\n",
    "print('AFTER NOISE REMOVAL FROM AUTOENCODER')\n",
    "plt.imshow(denoised[n])\n",
    "plt.show()"
   ]
  },
  {
   "cell_type": "code",
   "execution_count": null,
   "id": "8a8036d5",
   "metadata": {},
   "outputs": [],
   "source": []
  }
 ],
 "metadata": {
  "kernelspec": {
   "display_name": "Python 3 (ipykernel)",
   "language": "python",
   "name": "python3"
  },
  "language_info": {
   "codemirror_mode": {
    "name": "ipython",
    "version": 3
   },
   "file_extension": ".py",
   "mimetype": "text/x-python",
   "name": "python",
   "nbconvert_exporter": "python",
   "pygments_lexer": "ipython3",
   "version": "3.9.7"
  }
 },
 "nbformat": 4,
 "nbformat_minor": 5
}

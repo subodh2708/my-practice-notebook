{
 "cells": [
  {
   "cell_type": "code",
   "execution_count": 20,
   "id": "3625c588",
   "metadata": {},
   "outputs": [],
   "source": [
    "import numpy as np\n",
    "import pandas as pd\n",
    "import matplotlib.pyplot as plt\n",
    "%matplotlib inline"
   ]
  },
  {
   "cell_type": "code",
   "execution_count": 21,
   "id": "02a4e476",
   "metadata": {},
   "outputs": [],
   "source": [
    "x= np.linspace(0,50,501)"
   ]
  },
  {
   "cell_type": "code",
   "execution_count": 22,
   "id": "4f075551",
   "metadata": {},
   "outputs": [
    {
     "data": {
      "text/plain": [
       "array([ 0. ,  0.1,  0.2,  0.3,  0.4,  0.5,  0.6,  0.7,  0.8,  0.9,  1. ,\n",
       "        1.1,  1.2,  1.3,  1.4,  1.5,  1.6,  1.7,  1.8,  1.9,  2. ,  2.1,\n",
       "        2.2,  2.3,  2.4,  2.5,  2.6,  2.7,  2.8,  2.9,  3. ,  3.1,  3.2,\n",
       "        3.3,  3.4,  3.5,  3.6,  3.7,  3.8,  3.9,  4. ,  4.1,  4.2,  4.3,\n",
       "        4.4,  4.5,  4.6,  4.7,  4.8,  4.9,  5. ,  5.1,  5.2,  5.3,  5.4,\n",
       "        5.5,  5.6,  5.7,  5.8,  5.9,  6. ,  6.1,  6.2,  6.3,  6.4,  6.5,\n",
       "        6.6,  6.7,  6.8,  6.9,  7. ,  7.1,  7.2,  7.3,  7.4,  7.5,  7.6,\n",
       "        7.7,  7.8,  7.9,  8. ,  8.1,  8.2,  8.3,  8.4,  8.5,  8.6,  8.7,\n",
       "        8.8,  8.9,  9. ,  9.1,  9.2,  9.3,  9.4,  9.5,  9.6,  9.7,  9.8,\n",
       "        9.9, 10. , 10.1, 10.2, 10.3, 10.4, 10.5, 10.6, 10.7, 10.8, 10.9,\n",
       "       11. , 11.1, 11.2, 11.3, 11.4, 11.5, 11.6, 11.7, 11.8, 11.9, 12. ,\n",
       "       12.1, 12.2, 12.3, 12.4, 12.5, 12.6, 12.7, 12.8, 12.9, 13. , 13.1,\n",
       "       13.2, 13.3, 13.4, 13.5, 13.6, 13.7, 13.8, 13.9, 14. , 14.1, 14.2,\n",
       "       14.3, 14.4, 14.5, 14.6, 14.7, 14.8, 14.9, 15. , 15.1, 15.2, 15.3,\n",
       "       15.4, 15.5, 15.6, 15.7, 15.8, 15.9, 16. , 16.1, 16.2, 16.3, 16.4,\n",
       "       16.5, 16.6, 16.7, 16.8, 16.9, 17. , 17.1, 17.2, 17.3, 17.4, 17.5,\n",
       "       17.6, 17.7, 17.8, 17.9, 18. , 18.1, 18.2, 18.3, 18.4, 18.5, 18.6,\n",
       "       18.7, 18.8, 18.9, 19. , 19.1, 19.2, 19.3, 19.4, 19.5, 19.6, 19.7,\n",
       "       19.8, 19.9, 20. , 20.1, 20.2, 20.3, 20.4, 20.5, 20.6, 20.7, 20.8,\n",
       "       20.9, 21. , 21.1, 21.2, 21.3, 21.4, 21.5, 21.6, 21.7, 21.8, 21.9,\n",
       "       22. , 22.1, 22.2, 22.3, 22.4, 22.5, 22.6, 22.7, 22.8, 22.9, 23. ,\n",
       "       23.1, 23.2, 23.3, 23.4, 23.5, 23.6, 23.7, 23.8, 23.9, 24. , 24.1,\n",
       "       24.2, 24.3, 24.4, 24.5, 24.6, 24.7, 24.8, 24.9, 25. , 25.1, 25.2,\n",
       "       25.3, 25.4, 25.5, 25.6, 25.7, 25.8, 25.9, 26. , 26.1, 26.2, 26.3,\n",
       "       26.4, 26.5, 26.6, 26.7, 26.8, 26.9, 27. , 27.1, 27.2, 27.3, 27.4,\n",
       "       27.5, 27.6, 27.7, 27.8, 27.9, 28. , 28.1, 28.2, 28.3, 28.4, 28.5,\n",
       "       28.6, 28.7, 28.8, 28.9, 29. , 29.1, 29.2, 29.3, 29.4, 29.5, 29.6,\n",
       "       29.7, 29.8, 29.9, 30. , 30.1, 30.2, 30.3, 30.4, 30.5, 30.6, 30.7,\n",
       "       30.8, 30.9, 31. , 31.1, 31.2, 31.3, 31.4, 31.5, 31.6, 31.7, 31.8,\n",
       "       31.9, 32. , 32.1, 32.2, 32.3, 32.4, 32.5, 32.6, 32.7, 32.8, 32.9,\n",
       "       33. , 33.1, 33.2, 33.3, 33.4, 33.5, 33.6, 33.7, 33.8, 33.9, 34. ,\n",
       "       34.1, 34.2, 34.3, 34.4, 34.5, 34.6, 34.7, 34.8, 34.9, 35. , 35.1,\n",
       "       35.2, 35.3, 35.4, 35.5, 35.6, 35.7, 35.8, 35.9, 36. , 36.1, 36.2,\n",
       "       36.3, 36.4, 36.5, 36.6, 36.7, 36.8, 36.9, 37. , 37.1, 37.2, 37.3,\n",
       "       37.4, 37.5, 37.6, 37.7, 37.8, 37.9, 38. , 38.1, 38.2, 38.3, 38.4,\n",
       "       38.5, 38.6, 38.7, 38.8, 38.9, 39. , 39.1, 39.2, 39.3, 39.4, 39.5,\n",
       "       39.6, 39.7, 39.8, 39.9, 40. , 40.1, 40.2, 40.3, 40.4, 40.5, 40.6,\n",
       "       40.7, 40.8, 40.9, 41. , 41.1, 41.2, 41.3, 41.4, 41.5, 41.6, 41.7,\n",
       "       41.8, 41.9, 42. , 42.1, 42.2, 42.3, 42.4, 42.5, 42.6, 42.7, 42.8,\n",
       "       42.9, 43. , 43.1, 43.2, 43.3, 43.4, 43.5, 43.6, 43.7, 43.8, 43.9,\n",
       "       44. , 44.1, 44.2, 44.3, 44.4, 44.5, 44.6, 44.7, 44.8, 44.9, 45. ,\n",
       "       45.1, 45.2, 45.3, 45.4, 45.5, 45.6, 45.7, 45.8, 45.9, 46. , 46.1,\n",
       "       46.2, 46.3, 46.4, 46.5, 46.6, 46.7, 46.8, 46.9, 47. , 47.1, 47.2,\n",
       "       47.3, 47.4, 47.5, 47.6, 47.7, 47.8, 47.9, 48. , 48.1, 48.2, 48.3,\n",
       "       48.4, 48.5, 48.6, 48.7, 48.8, 48.9, 49. , 49.1, 49.2, 49.3, 49.4,\n",
       "       49.5, 49.6, 49.7, 49.8, 49.9, 50. ])"
      ]
     },
     "execution_count": 22,
     "metadata": {},
     "output_type": "execute_result"
    }
   ],
   "source": [
    "x"
   ]
  },
  {
   "cell_type": "code",
   "execution_count": 23,
   "id": "41b6fda8",
   "metadata": {},
   "outputs": [],
   "source": [
    "y = np.sin(x)"
   ]
  },
  {
   "cell_type": "code",
   "execution_count": 24,
   "id": "3987740f",
   "metadata": {},
   "outputs": [
    {
     "data": {
      "text/plain": [
       "[<matplotlib.lines.Line2D at 0x23cfedf5ee0>]"
      ]
     },
     "execution_count": 24,
     "metadata": {},
     "output_type": "execute_result"
    },
    {
     "data": {
      "image/png": "[encoded data removed]",
      "text/plain": [
       "<Figure size 432x288 with 1 Axes>"
      ]
     },
     "metadata": {
      "needs_background": "light"
     },
     "output_type": "display_data"
    }
   ],
   "source": [
    "plt.plot(x,y)"
   ]
  },
  {
   "cell_type": "code",
   "execution_count": 25,
   "id": "fc78f913",
   "metadata": {},
   "outputs": [],
   "source": [
    "df = pd.DataFrame(data=y,index=x,columns=['sine'])"
   ]
  },
  {
   "cell_type": "code",
   "execution_count": 26,
   "id": "ba979c49",
   "metadata": {},
   "outputs": [
    {
     "data": {
      "text/html": [
       "<div>\n",
       "<style scoped>\n",
       "    .dataframe tbody tr th:only-of-type {\n",
       "        vertical-align: middle;\n",
       "    }\n",
       "\n",
       "    .dataframe tbody tr th {\n",
       "        vertical-align: top;\n",
       "    }\n",
       "\n",
       "    .dataframe thead th {\n",
       "        text-align: right;\n",
       "    }\n",
       "</style>\n",
       "<table border=\"1\" class=\"dataframe\">\n",
       "  <thead>\n",
       "    <tr style=\"text-align: right;\">\n",
       "      <th></th>\n",
       "      <th>sine</th>\n",
       "    </tr>\n",
       "  </thead>\n",
       "  <tbody>\n",
       "    <tr>\n",
       "      <th>0.0</th>\n",
       "      <td>0.000000</td>\n",
       "    </tr>\n",
       "    <tr>\n",
       "      <th>0.1</th>\n",
       "      <td>0.099833</td>\n",
       "    </tr>\n",
       "    <tr>\n",
       "      <th>0.2</th>\n",
       "      <td>0.198669</td>\n",
       "    </tr>\n",
       "    <tr>\n",
       "      <th>0.3</th>\n",
       "      <td>0.295520</td>\n",
       "    </tr>\n",
       "    <tr>\n",
       "      <th>0.4</th>\n",
       "      <td>0.389418</td>\n",
       "    </tr>\n",
       "    <tr>\n",
       "      <th>...</th>\n",
       "      <td>...</td>\n",
       "    </tr>\n",
       "    <tr>\n",
       "      <th>49.6</th>\n",
       "      <td>-0.617439</td>\n",
       "    </tr>\n",
       "    <tr>\n",
       "      <th>49.7</th>\n",
       "      <td>-0.535823</td>\n",
       "    </tr>\n",
       "    <tr>\n",
       "      <th>49.8</th>\n",
       "      <td>-0.448854</td>\n",
       "    </tr>\n",
       "    <tr>\n",
       "      <th>49.9</th>\n",
       "      <td>-0.357400</td>\n",
       "    </tr>\n",
       "    <tr>\n",
       "      <th>50.0</th>\n",
       "      <td>-0.262375</td>\n",
       "    </tr>\n",
       "  </tbody>\n",
       "</table>\n",
       "<p>501 rows × 1 columns</p>\n",
       "</div>"
      ],
      "text/plain": [
       "          sine\n",
       "0.0   0.000000\n",
       "0.1   0.099833\n",
       "0.2   0.198669\n",
       "0.3   0.295520\n",
       "0.4   0.389418\n",
       "...        ...\n",
       "49.6 -0.617439\n",
       "49.7 -0.535823\n",
       "49.8 -0.448854\n",
       "49.9 -0.357400\n",
       "50.0 -0.262375\n",
       "\n",
       "[501 rows x 1 columns]"
      ]
     },
     "execution_count": 26,
     "metadata": {},
     "output_type": "execute_result"
    }
   ],
   "source": [
    "df"
   ]
  },
  {
   "cell_type": "code",
   "execution_count": 27,
   "id": "e0e69e36",
   "metadata": {},
   "outputs": [
    {
     "data": {
      "text/plain": [
       "501"
      ]
     },
     "execution_count": 27,
     "metadata": {},
     "output_type": "execute_result"
    }
   ],
   "source": [
    "len(df)"
   ]
  },
  {
   "cell_type": "code",
   "execution_count": 28,
   "id": "a2cfec49",
   "metadata": {},
   "outputs": [],
   "source": [
    "test_percent = 0.1"
   ]
  },
  {
   "cell_type": "code",
   "execution_count": 29,
   "id": "96498cdd",
   "metadata": {},
   "outputs": [
    {
     "data": {
      "text/plain": [
       "50.1"
      ]
     },
     "execution_count": 29,
     "metadata": {},
     "output_type": "execute_result"
    }
   ],
   "source": [
    "len(df)*test_percent"
   ]
  },
  {
   "cell_type": "code",
   "execution_count": 30,
   "id": "a028dd01",
   "metadata": {},
   "outputs": [],
   "source": [
    "test_point = np.round(len(df)*test_percent)"
   ]
  },
  {
   "cell_type": "code",
   "execution_count": 31,
   "id": "ceaadcfb",
   "metadata": {},
   "outputs": [],
   "source": [
    "test_ind = int(len(df)-test_point)"
   ]
  },
  {
   "cell_type": "code",
   "execution_count": 87,
   "id": "32c95daf",
   "metadata": {},
   "outputs": [
    {
     "data": {
      "text/plain": [
       "451"
      ]
     },
     "execution_count": 87,
     "metadata": {},
     "output_type": "execute_result"
    }
   ],
   "source": [
    "train = df.iloc[:test_ind]\n",
    "len(train)"
   ]
  },
  {
   "cell_type": "code",
   "execution_count": 86,
   "id": "4115145b",
   "metadata": {},
   "outputs": [
    {
     "data": {
      "text/plain": [
       "50"
      ]
     },
     "execution_count": 86,
     "metadata": {},
     "output_type": "execute_result"
    }
   ],
   "source": [
    "test = df.iloc[test_ind:]\n",
    "len(test)"
   ]
  },
  {
   "cell_type": "code",
   "execution_count": 34,
   "id": "0a33ebc1",
   "metadata": {},
   "outputs": [],
   "source": [
    "from sklearn.preprocessing import MinMaxScaler"
   ]
  },
  {
   "cell_type": "code",
   "execution_count": 35,
   "id": "4651b9fe",
   "metadata": {},
   "outputs": [],
   "source": [
    "scaler = MinMaxScaler()"
   ]
  },
  {
   "cell_type": "code",
   "execution_count": 36,
   "id": "1025533f",
   "metadata": {},
   "outputs": [
    {
     "data": {
      "text/plain": [
       "MinMaxScaler()"
      ]
     },
     "execution_count": 36,
     "metadata": {},
     "output_type": "execute_result"
    }
   ],
   "source": [
    "scaler.fit(train)"
   ]
  },
  {
   "cell_type": "code",
   "execution_count": 37,
   "id": "6098ddf9",
   "metadata": {},
   "outputs": [],
   "source": [
    "scaled_train = scaler.transform(train)"
   ]
  },
  {
   "cell_type": "code",
   "execution_count": 38,
   "id": "7fdb469b",
   "metadata": {},
   "outputs": [],
   "source": [
    "scaled_test = scaler.transform(test)"
   ]
  },
  {
   "cell_type": "code",
   "execution_count": 39,
   "id": "fbd60bc0",
   "metadata": {},
   "outputs": [],
   "source": [
    "from tensorflow.keras.preprocessing.sequence import TimeseriesGenerator"
   ]
  },
  {
   "cell_type": "code",
   "execution_count": 41,
   "id": "dd79787a",
   "metadata": {},
   "outputs": [],
   "source": [
    "#help(TimeseriesGenerator)"
   ]
  },
  {
   "cell_type": "code",
   "execution_count": 55,
   "id": "f620775b",
   "metadata": {},
   "outputs": [],
   "source": [
    "length = 50\n",
    "batch_size = 1\n",
    "\n",
    "generator = TimeseriesGenerator(scaled_train,scaled_train,length=length,batch_size=batch_size)"
   ]
  },
  {
   "cell_type": "code",
   "execution_count": 56,
   "id": "37abf02a",
   "metadata": {},
   "outputs": [
    {
     "data": {
      "text/plain": [
       "451"
      ]
     },
     "execution_count": 56,
     "metadata": {},
     "output_type": "execute_result"
    }
   ],
   "source": [
    "len(scaled_train)"
   ]
  },
  {
   "cell_type": "code",
   "execution_count": 57,
   "id": "48a14234",
   "metadata": {},
   "outputs": [
    {
     "data": {
      "text/plain": [
       "401"
      ]
     },
     "execution_count": 57,
     "metadata": {},
     "output_type": "execute_result"
    }
   ],
   "source": [
    "len(generator)"
   ]
  },
  {
   "cell_type": "code",
   "execution_count": 58,
   "id": "6b2c6cef",
   "metadata": {},
   "outputs": [],
   "source": [
    "X,y=generator[0]"
   ]
  },
  {
   "cell_type": "code",
   "execution_count": 59,
   "id": "9271cada",
   "metadata": {},
   "outputs": [
    {
     "data": {
      "text/plain": [
       "array([[[4.99999116e-01],\n",
       "        [5.49916225e-01],\n",
       "        [5.99334579e-01],\n",
       "        [6.47760405e-01],\n",
       "        [6.94709850e-01],\n",
       "        [7.39713809e-01],\n",
       "        [7.82322618e-01],\n",
       "        [8.22110545e-01],\n",
       "        [8.58680040e-01],\n",
       "        [8.91665714e-01],\n",
       "        [9.20737985e-01],\n",
       "        [9.45606372e-01],\n",
       "        [9.66022399e-01],\n",
       "        [9.81782075e-01],\n",
       "        [9.92727935e-01],\n",
       "        [9.98750612e-01],\n",
       "        [9.99789928e-01],\n",
       "        [9.95835500e-01],\n",
       "        [9.86926839e-01],\n",
       "        [9.73152957e-01],\n",
       "        [9.54651478e-01],\n",
       "        [9.31607263e-01],\n",
       "        [9.04250562e-01],\n",
       "        [8.72854714e-01],\n",
       "        [8.37733417e-01],\n",
       "        [7.99237589e-01],\n",
       "        [7.57751870e-01],\n",
       "        [7.13690771e-01],\n",
       "        [6.67494535e-01],\n",
       "        [6.19624741e-01],\n",
       "        [5.70559686e-01],\n",
       "        [5.20789614e-01],\n",
       "        [4.70811810e-01],\n",
       "        [4.21125636e-01],\n",
       "        [3.72227539e-01],\n",
       "        [3.24606094e-01],\n",
       "        [2.78737119e-01],\n",
       "        [2.35078919e-01],\n",
       "        [1.94067715e-01],\n",
       "        [1.56113277e-01],\n",
       "        [1.21594831e-01],\n",
       "        [9.08572769e-02],\n",
       "        [6.42077324e-02],\n",
       "        [4.19124713e-02],\n",
       "        [2.41942605e-02],\n",
       "        [1.12301346e-02],\n",
       "        [3.14962674e-03],\n",
       "        [3.34747619e-05],\n",
       "        [1.91281421e-03],\n",
       "        [8.76886734e-03]]])"
      ]
     },
     "execution_count": 59,
     "metadata": {},
     "output_type": "execute_result"
    }
   ],
   "source": [
    "X"
   ]
  },
  {
   "cell_type": "code",
   "execution_count": 60,
   "id": "8a530a70",
   "metadata": {},
   "outputs": [
    {
     "data": {
      "text/plain": [
       "array([[0.02053313]])"
      ]
     },
     "execution_count": 60,
     "metadata": {},
     "output_type": "execute_result"
    }
   ],
   "source": [
    "y"
   ]
  },
  {
   "cell_type": "code",
   "execution_count": 61,
   "id": "36e2b7c0",
   "metadata": {},
   "outputs": [],
   "source": [
    "from tensorflow.keras.models import Sequential\n",
    "from tensorflow.keras.layers import Dense,SimpleRNN,LSTM"
   ]
  },
  {
   "cell_type": "code",
   "execution_count": 62,
   "id": "cb9db2d7",
   "metadata": {},
   "outputs": [],
   "source": [
    "n_features = 1"
   ]
  },
  {
   "cell_type": "code",
   "execution_count": 63,
   "id": "5997e07b",
   "metadata": {},
   "outputs": [],
   "source": [
    "model = Sequential()\n",
    "\n",
    "model.add(SimpleRNN(50,input_shape = (length,n_features)))\n",
    "model.add(Dense(1))\n",
    "\n",
    "model.compile(optimizer = 'adam', loss='mse')"
   ]
  },
  {
   "cell_type": "code",
   "execution_count": 64,
   "id": "468bebfb",
   "metadata": {},
   "outputs": [
    {
     "name": "stdout",
     "output_type": "stream",
     "text": [
      "Epoch 1/5\n",
      "401/401 [==============================] - 3s 5ms/step - loss: 0.0066\n",
      "Epoch 2/5\n",
      "401/401 [==============================] - 2s 5ms/step - loss: 4.2202e-04\n",
      "Epoch 3/5\n",
      "401/401 [==============================] - 2s 5ms/step - loss: 4.6083e-05\n",
      "Epoch 4/5\n",
      "401/401 [==============================] - 2s 5ms/step - loss: 7.7723e-04\n",
      "Epoch 5/5\n",
      "401/401 [==============================] - 2s 5ms/step - loss: 4.1454e-05\n"
     ]
    },
    {
     "data": {
      "text/plain": [
       "<keras.callbacks.History at 0x23cfecd2070>"
      ]
     },
     "execution_count": 64,
     "metadata": {},
     "output_type": "execute_result"
    }
   ],
   "source": [
    "model.fit(generator,epochs=5)"
   ]
  },
  {
   "cell_type": "code",
   "execution_count": 65,
   "id": "05af72d1",
   "metadata": {},
   "outputs": [],
   "source": [
    "losses = pd.DataFrame(model.history.history)"
   ]
  },
  {
   "cell_type": "code",
   "execution_count": 66,
   "id": "f4046fb5",
   "metadata": {},
   "outputs": [
    {
     "data": {
      "text/plain": [
       "<AxesSubplot:>"
      ]
     },
     "execution_count": 66,
     "metadata": {},
     "output_type": "execute_result"
    },
    {
     "data": {
      "image/png": "[encoded data removed]",
      "text/plain": [
       "<Figure size 432x288 with 1 Axes>"
      ]
     },
     "metadata": {
      "needs_background": "light"
     },
     "output_type": "display_data"
    }
   ],
   "source": [
    "losses.plot()"
   ]
  },
  {
   "cell_type": "code",
   "execution_count": 67,
   "id": "70a39a25",
   "metadata": {},
   "outputs": [],
   "source": [
    "first_eval_batch = scaled_train[-length:]"
   ]
  },
  {
   "cell_type": "code",
   "execution_count": 70,
   "id": "a24d5290",
   "metadata": {},
   "outputs": [],
   "source": [
    "first_eval_batch =first_eval_batch.reshape((1,length,n_features))"
   ]
  },
  {
   "cell_type": "code",
   "execution_count": 71,
   "id": "f5135095",
   "metadata": {},
   "outputs": [
    {
     "data": {
      "text/plain": [
       "array([[0.95927763]], dtype=float32)"
      ]
     },
     "execution_count": 71,
     "metadata": {},
     "output_type": "execute_result"
    }
   ],
   "source": [
    "model.predict(first_eval_batch)"
   ]
  },
  {
   "cell_type": "code",
   "execution_count": 73,
   "id": "dcbe42bb",
   "metadata": {},
   "outputs": [
    {
     "data": {
      "text/plain": [
       "array([0.94955134])"
      ]
     },
     "execution_count": 73,
     "metadata": {},
     "output_type": "execute_result"
    }
   ],
   "source": [
    "scaled_test[0]"
   ]
  },
  {
   "cell_type": "code",
   "execution_count": 77,
   "id": "0d02d8be",
   "metadata": {},
   "outputs": [],
   "source": [
    "test_predictions = []\n",
    "\n",
    "first_eval_batch = scaled_train[-length:]\n",
    "current_batch = first_eval_batch.reshape((1,length,n_features))\n",
    "\n",
    "for i in range(len(test)):\n",
    "    current_pred = model.predict(current_batch)[0]\n",
    "    \n",
    "    test_predictions.append(current_pred)\n",
    "    current_batch = np.append(current_batch[:,1:,:],[[current_pred]],axis=1)"
   ]
  },
  {
   "cell_type": "code",
   "execution_count": 78,
   "id": "bed4b305",
   "metadata": {},
   "outputs": [
    {
     "data": {
      "text/plain": [
       "[array([0.95927763], dtype=float32),\n",
       " array([0.9786206], dtype=float32),\n",
       " array([0.9971436], dtype=float32),\n",
       " array([1.0091068], dtype=float32),\n",
       " array([1.0154926], dtype=float32),\n",
       " array([1.0184363], dtype=float32),\n",
       " array([1.0131897], dtype=float32),\n",
       " array([1.0051875], dtype=float32),\n",
       " array([0.988994], dtype=float32),\n",
       " array([0.96999973], dtype=float32),\n",
       " array([0.94576627], dtype=float32),\n",
       " array([0.91705483], dtype=float32),\n",
       " array([0.88572913], dtype=float32),\n",
       " array([0.84951097], dtype=float32),\n",
       " array([0.8124984], dtype=float32),\n",
       " array([0.77026975], dtype=float32),\n",
       " array([0.7286757], dtype=float32),\n",
       " array([0.6830376], dtype=float32),\n",
       " array([0.63629806], dtype=float32),\n",
       " array([0.589934], dtype=float32),\n",
       " array([0.53940153], dtype=float32),\n",
       " array([0.49214515], dtype=float32),\n",
       " array([0.4410838], dtype=float32),\n",
       " array([0.39360914], dtype=float32),\n",
       " array([0.3448327], dtype=float32),\n",
       " array([0.29766273], dtype=float32),\n",
       " array([0.2546078], dtype=float32),\n",
       " array([0.21017852], dtype=float32),\n",
       " array([0.17365967], dtype=float32),\n",
       " array([0.13563184], dtype=float32),\n",
       " array([0.10550911], dtype=float32),\n",
       " array([0.0764406], dtype=float32),\n",
       " array([0.05247395], dtype=float32),\n",
       " array([0.03559626], dtype=float32),\n",
       " array([0.01739221], dtype=float32),\n",
       " array([0.01219108], dtype=float32),\n",
       " array([0.0028989], dtype=float32),\n",
       " array([0.00595888], dtype=float32),\n",
       " array([0.00953102], dtype=float32),\n",
       " array([0.01818234], dtype=float32),\n",
       " array([0.03597615], dtype=float32),\n",
       " array([0.04929797], dtype=float32),\n",
       " array([0.07953282], dtype=float32),\n",
       " array([0.10052147], dtype=float32),\n",
       " array([0.13711654], dtype=float32),\n",
       " array([0.17013077], dtype=float32),\n",
       " array([0.20717987], dtype=float32),\n",
       " array([0.25392342], dtype=float32),\n",
       " array([0.28948674], dtype=float32),\n",
       " array([0.34690607], dtype=float32)]"
      ]
     },
     "execution_count": 78,
     "metadata": {},
     "output_type": "execute_result"
    }
   ],
   "source": [
    "test_predictions"
   ]
  },
  {
   "cell_type": "code",
   "execution_count": 80,
   "id": "a2483fd4",
   "metadata": {},
   "outputs": [
    {
     "data": {
      "text/plain": [
       "array([[ 0.91854966],\n",
       "       [ 0.95723526],\n",
       "       [ 0.99428104],\n",
       "       [ 1.01820711],\n",
       "       [ 1.03097861],\n",
       "       [ 1.03686607],\n",
       "       [ 1.02637288],\n",
       "       [ 1.01036868],\n",
       "       [ 0.97798192],\n",
       "       [ 0.93999369],\n",
       "       [ 0.89152715],\n",
       "       [ 0.83410474],\n",
       "       [ 0.77145385],\n",
       "       [ 0.69901809],\n",
       "       [ 0.62499353],\n",
       "       [ 0.54053693],\n",
       "       [ 0.45734954],\n",
       "       [ 0.36607399],\n",
       "       [ 0.2725957 ],\n",
       "       [ 0.17986831],\n",
       "       [ 0.0788042 ],\n",
       "       [-0.0157078 ],\n",
       "       [-0.11782971],\n",
       "       [-0.21277825],\n",
       "       [-0.31033036],\n",
       "       [-0.40466951],\n",
       "       [-0.4907787 ],\n",
       "       [-0.57963653],\n",
       "       [-0.65267366],\n",
       "       [-0.72872869],\n",
       "       [-0.78897368],\n",
       "       [-0.84711024],\n",
       "       [-0.89504315],\n",
       "       [-0.92879826],\n",
       "       [-0.96520607],\n",
       "       [-0.97560825],\n",
       "       [-0.99419246],\n",
       "       [-0.98807254],\n",
       "       [-0.98092832],\n",
       "       [-0.96362581],\n",
       "       [-0.92803849],\n",
       "       [-0.90139505],\n",
       "       [-0.84092583],\n",
       "       [-0.79894888],\n",
       "       [-0.72575933],\n",
       "       [-0.65973139],\n",
       "       [-0.58563378],\n",
       "       [-0.49214745],\n",
       "       [-0.42102138],\n",
       "       [-0.30618364]])"
      ]
     },
     "execution_count": 80,
     "metadata": {},
     "output_type": "execute_result"
    }
   ],
   "source": [
    "true_predictions = scaler.inverse_transform(test_predictions)\n",
    "true_predictions"
   ]
  },
  {
   "cell_type": "code",
   "execution_count": 81,
   "id": "ac79c094",
   "metadata": {},
   "outputs": [
    {
     "name": "stderr",
     "output_type": "stream",
     "text": [
      "C:\\Users\\Lenovo\\AppData\\Local\\Temp/ipykernel_9004/349349345.py:1: SettingWithCopyWarning: \n",
      "A value is trying to be set on a copy of a slice from a DataFrame.\n",
      "Try using .loc[row_indexer,col_indexer] = value instead\n",
      "\n",
      "See the caveats in the documentation: https://pandas.pydata.org/pandas-docs/stable/user_guide/indexing.html#returning-a-view-versus-a-copy\n",
      "  test['predictions'] = true_predictions\n"
     ]
    }
   ],
   "source": [
    "test['predictions'] = true_predictions"
   ]
  },
  {
   "cell_type": "code",
   "execution_count": 84,
   "id": "a6e0a6be",
   "metadata": {},
   "outputs": [
    {
     "data": {
      "text/plain": [
       "<AxesSubplot:>"
      ]
     },
     "execution_count": 84,
     "metadata": {},
     "output_type": "execute_result"
    },
    {
     "data": {
      "image/png": "[encoded data removed]",
      "text/plain": [
       "<Figure size 864x576 with 1 Axes>"
      ]
     },
     "metadata": {
      "needs_background": "light"
     },
     "output_type": "display_data"
    }
   ],
   "source": [
    "test.plot(figsize= (12,8))"
   ]
  },
  {
   "cell_type": "code",
   "execution_count": 85,
   "id": "3cbd9afa",
   "metadata": {},
   "outputs": [
    {
     "data": {
      "text/plain": [
       "50"
      ]
     },
     "execution_count": 85,
     "metadata": {},
     "output_type": "execute_result"
    }
   ],
   "source": [
    "len(scaled_test)"
   ]
  },
  {
   "cell_type": "code",
   "execution_count": 90,
   "id": "57980037",
   "metadata": {},
   "outputs": [],
   "source": [
    "from tensorflow.keras.callbacks import EarlyStopping\n",
    "early_stop = EarlyStopping(monitor = 'val_loss', patience=2)"
   ]
  },
  {
   "cell_type": "code",
   "execution_count": 91,
   "id": "5703f5e9",
   "metadata": {},
   "outputs": [],
   "source": [
    "length = 49\n",
    "\n",
    "generator = TimeseriesGenerator(scaled_train,scaled_train,length=length,batch_size=1)\n",
    "\n",
    "validation_generator = TimeseriesGenerator(scaled_test,scaled_test,length=length, batch_size=1)"
   ]
  },
  {
   "cell_type": "code",
   "execution_count": 92,
   "id": "ed27c4e7",
   "metadata": {},
   "outputs": [],
   "source": [
    "model = Sequential()\n",
    "model.add(LSTM(49, input_shape=(length,n_features)))\n",
    "model.add(Dense(1))\n",
    "\n",
    "model.compile(optimizer = 'adam', loss = 'mse')"
   ]
  },
  {
   "cell_type": "code",
   "execution_count": 93,
   "id": "b4ecd090",
   "metadata": {},
   "outputs": [
    {
     "name": "stdout",
     "output_type": "stream",
     "text": [
      "Epoch 1/20\n",
      "402/402 [==============================] - 6s 11ms/step - loss: 0.0173 - val_loss: 5.8392e-05\n",
      "Epoch 2/20\n",
      "402/402 [==============================] - 4s 9ms/step - loss: 6.7573e-05 - val_loss: 4.1759e-05\n",
      "Epoch 3/20\n",
      "402/402 [==============================] - 4s 10ms/step - loss: 1.5660e-04 - val_loss: 4.6680e-05\n",
      "Epoch 4/20\n",
      "402/402 [==============================] - 4s 9ms/step - loss: 3.1697e-04 - val_loss: 4.0436e-05\n",
      "Epoch 5/20\n",
      "402/402 [==============================] - 4s 9ms/step - loss: 5.3813e-05 - val_loss: 7.4271e-06\n",
      "Epoch 6/20\n",
      "402/402 [==============================] - 4s 9ms/step - loss: 1.5701e-04 - val_loss: 1.4709e-05\n",
      "Epoch 7/20\n",
      "402/402 [==============================] - 4s 9ms/step - loss: 1.3806e-04 - val_loss: 4.7826e-06\n",
      "Epoch 8/20\n",
      "402/402 [==============================] - 4s 9ms/step - loss: 4.7012e-05 - val_loss: 1.5912e-04\n",
      "Epoch 9/20\n",
      "402/402 [==============================] - 4s 9ms/step - loss: 7.3785e-05 - val_loss: 8.5199e-05\n"
     ]
    },
    {
     "data": {
      "text/plain": [
       "<keras.callbacks.History at 0x23c90cdb8e0>"
      ]
     },
     "execution_count": 93,
     "metadata": {},
     "output_type": "execute_result"
    }
   ],
   "source": [
    "model.fit(generator, epochs = 20, validation_data = validation_generator, callbacks = [early_stop])"
   ]
  },
  {
   "cell_type": "code",
   "execution_count": 102,
   "id": "8f6598d0",
   "metadata": {},
   "outputs": [],
   "source": [
    "test_predictions = []\n",
    "\n",
    "first_eval_batch = scaled_train[-length:]\n",
    "current_batch = first_eval_batch.reshape((1,length,n_features))\n",
    "\n",
    "for i in range(len(test)):\n",
    "    \n",
    "    current_pred = model.predict(current_batch)[0]\n",
    "    test_predictions.append(current_pred)\n",
    "    \n",
    "    current_batch = np.append(current_batch[:,1:,:],[[current_pred]],axis=1)"
   ]
  },
  {
   "cell_type": "code",
   "execution_count": 103,
   "id": "d2aaf843",
   "metadata": {},
   "outputs": [
    {
     "name": "stderr",
     "output_type": "stream",
     "text": [
      "C:\\Users\\Lenovo\\AppData\\Local\\Temp/ipykernel_9004/3886279277.py:2: SettingWithCopyWarning: \n",
      "A value is trying to be set on a copy of a slice from a DataFrame.\n",
      "Try using .loc[row_indexer,col_indexer] = value instead\n",
      "\n",
      "See the caveats in the documentation: https://pandas.pydata.org/pandas-docs/stable/user_guide/indexing.html#returning-a-view-versus-a-copy\n",
      "  test['LSTM predictions'] =true_predictions\n"
     ]
    },
    {
     "data": {
      "text/plain": [
       "<AxesSubplot:>"
      ]
     },
     "execution_count": 103,
     "metadata": {},
     "output_type": "execute_result"
    },
    {
     "data": {
      "image/png": "[encoded data removed]",
      "text/plain": [
       "<Figure size 864x576 with 1 Axes>"
      ]
     },
     "metadata": {
      "needs_background": "light"
     },
     "output_type": "display_data"
    }
   ],
   "source": [
    "true_predictions = scaler.inverse_transform(test_predictions)\n",
    "test['LSTM predictions'] =true_predictions\n",
    "test.plot(figsize = (12,8))"
   ]
  },
  {
   "cell_type": "code",
   "execution_count": 105,
   "id": "4e0eaf00",
   "metadata": {},
   "outputs": [
    {
     "data": {
      "text/plain": [
       "501"
      ]
     },
     "execution_count": 105,
     "metadata": {},
     "output_type": "execute_result"
    }
   ],
   "source": [
    "len(df)"
   ]
  },
  {
   "cell_type": "code",
   "execution_count": 107,
   "id": "8635a31f",
   "metadata": {},
   "outputs": [],
   "source": [
    "full_scaler = MinMaxScaler()\n",
    "scaled_full_data = full_scaler.fit_transform(df)"
   ]
  },
  {
   "cell_type": "code",
   "execution_count": 108,
   "id": "72e3d405",
   "metadata": {},
   "outputs": [],
   "source": [
    "generator = TimeseriesGenerator(scaled_full_data, scaled_full_data, length = length , batch_size = 1)"
   ]
  },
  {
   "cell_type": "code",
   "execution_count": 109,
   "id": "3378f0ab",
   "metadata": {},
   "outputs": [],
   "source": [
    "model = Sequential()\n",
    "\n",
    "model.add(LSTM(50, input_shape= (length,n_features)))\n",
    "model.add(Dense(1))\n",
    "\n",
    "model.compile(optimizer='adam',loss = 'mse')"
   ]
  },
  {
   "cell_type": "code",
   "execution_count": 110,
   "id": "4db378b0",
   "metadata": {},
   "outputs": [
    {
     "name": "stdout",
     "output_type": "stream",
     "text": [
      "Epoch 1/6\n",
      "452/452 [==============================] - 6s 9ms/step - loss: 0.0127\n",
      "Epoch 2/6\n",
      "452/452 [==============================] - 4s 9ms/step - loss: 2.1554e-04\n",
      "Epoch 3/6\n",
      "452/452 [==============================] - 4s 9ms/step - loss: 3.8087e-05\n",
      "Epoch 4/6\n",
      "452/452 [==============================] - 4s 9ms/step - loss: 1.5394e-04\n",
      "Epoch 5/6\n",
      "452/452 [==============================] - 4s 9ms/step - loss: 1.3629e-04\n",
      "Epoch 6/6\n",
      "452/452 [==============================] - 4s 9ms/step - loss: 1.2669e-04\n"
     ]
    },
    {
     "data": {
      "text/plain": [
       "<keras.callbacks.History at 0x23c955a43a0>"
      ]
     },
     "execution_count": 110,
     "metadata": {},
     "output_type": "execute_result"
    }
   ],
   "source": [
    "model.fit(generator,epochs=6)"
   ]
  },
  {
   "cell_type": "code",
   "execution_count": 111,
   "id": "5bdd94b8",
   "metadata": {},
   "outputs": [],
   "source": [
    "forecast = []\n",
    "\n",
    "first_eval_batch = scaled_train[-length:]\n",
    "current_batch = first_eval_batch.reshape((1,length,n_features))\n",
    "\n",
    "for i in range(25):\n",
    "    \n",
    "    current_pred = model.predict(current_batch)[0]\n",
    "    forecast.append(current_pred)\n",
    "    \n",
    "    current_batch = np.append(current_batch[:,1:,:],[[current_pred]],axis=1)"
   ]
  },
  {
   "cell_type": "code",
   "execution_count": 112,
   "id": "1b456e26",
   "metadata": {},
   "outputs": [],
   "source": [
    "forecast = scaler.inverse_transform(forecast)"
   ]
  },
  {
   "cell_type": "code",
   "execution_count": 113,
   "id": "d560e36c",
   "metadata": {},
   "outputs": [
    {
     "data": {
      "text/plain": [
       "array([[ 0.94020075],\n",
       "       [ 0.98469371],\n",
       "       [ 1.02153612],\n",
       "       [ 1.04964234],\n",
       "       [ 1.06851708],\n",
       "       [ 1.07787183],\n",
       "       [ 1.07758764],\n",
       "       [ 1.06768524],\n",
       "       [ 1.04830626],\n",
       "       [ 1.01969316],\n",
       "       [ 0.98217591],\n",
       "       [ 0.93615983],\n",
       "       [ 0.88211375],\n",
       "       [ 0.82056482],\n",
       "       [ 0.75208976],\n",
       "       [ 0.67731169],\n",
       "       [ 0.59689625],\n",
       "       [ 0.51154761],\n",
       "       [ 0.42200678],\n",
       "       [ 0.32904943],\n",
       "       [ 0.23348416],\n",
       "       [ 0.13614889],\n",
       "       [ 0.03791026],\n",
       "       [-0.06034006],\n",
       "       [-0.15768845]])"
      ]
     },
     "execution_count": 113,
     "metadata": {},
     "output_type": "execute_result"
    }
   ],
   "source": [
    "forecast"
   ]
  },
  {
   "cell_type": "code",
   "execution_count": 114,
   "id": "a14d1da2",
   "metadata": {},
   "outputs": [],
   "source": [
    "forecast_index = np.arange(50.1,52.6, step=0.1)"
   ]
  },
  {
   "cell_type": "code",
   "execution_count": 115,
   "id": "d221e708",
   "metadata": {},
   "outputs": [
    {
     "data": {
      "text/plain": [
       "25"
      ]
     },
     "execution_count": 115,
     "metadata": {},
     "output_type": "execute_result"
    }
   ],
   "source": [
    "len(forecast_index)"
   ]
  },
  {
   "cell_type": "code",
   "execution_count": 118,
   "id": "e26c853c",
   "metadata": {},
   "outputs": [
    {
     "data": {
      "text/plain": [
       "[<matplotlib.lines.Line2D at 0x23c98e954f0>]"
      ]
     },
     "execution_count": 118,
     "metadata": {},
     "output_type": "execute_result"
    },
    {
     "data": {
      "image/png": "[encoded data removed]",
      "text/plain": [
       "<Figure size 432x288 with 1 Axes>"
      ]
     },
     "metadata": {
      "needs_background": "light"
     },
     "output_type": "display_data"
    }
   ],
   "source": [
    "plt.plot(df.index,df['sine'])\n",
    "plt.plot(forecast_index,forecast)\n"
   ]
  },
  {
   "cell_type": "code",
   "execution_count": null,
   "id": "106624d1",
   "metadata": {},
   "outputs": [],
   "source": []
  }
 ],
 "metadata": {
  "kernelspec": {
   "display_name": "Python 3 (ipykernel)",
   "language": "python",
   "name": "python3"
  },
  "language_info": {
   "codemirror_mode": {
    "name": "ipython",
    "version": 3
   },
   "file_extension": ".py",
   "mimetype": "text/x-python",
   "name": "python",
   "nbconvert_exporter": "python",
   "pygments_lexer": "ipython3",
   "version": "3.9.7"
  }
 },
 "nbformat": 4,
 "nbformat_minor": 5
}
